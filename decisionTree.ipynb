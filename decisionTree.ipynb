{
 "cells": [
  {
   "cell_type": "code",
   "execution_count": null,
   "id": "beac932c-cc30-41a5-a928-64f7c9c31656",
   "metadata": {},
   "outputs": [],
   "source": [
    "import numpy as np\n",
    "import pandas as pd\n",
    "import matplotlib.pyplot as plt"
   ]
  },
  {
   "cell_type": "code",
   "execution_count": null,
   "id": "d1ac0ac5-2fa8-4052-8f7c-bbd9d8e8fbe4",
   "metadata": {},
   "outputs": [],
   "source": [
    "data = pd.read_csv('students.csv')\n",
    "X = data.drop(['Roll No','Final Exam Score'],axis=1)\n",
    "y = data['Final Exam Score']\n",
    "X_encoded = pd.get_dummies(X, columns=['Extracurricular', 'School Type', 'Parental Education', 'Gender'], drop_first=True)"
   ]
  },
  {
   "cell_type": "code",
   "execution_count": null,
   "id": "ed1dcb81-6dab-4819-b75d-396a50e2d31c",
   "metadata": {},
   "outputs": [],
   "source": [
    "from sklearn.tree import DecisionTreeRegressor\n",
    "regressor = DecisionTreeRegressor(random_state=0)\n",
    "regressor.fit(X_encoded,y)\n",
    "feature_order = X_encoded.columns.tolist()"
   ]
  },
  {
   "cell_type": "code",
   "execution_count": null,
   "id": "0329a5b4-d827-40a6-8de5-59af6caf3321",
   "metadata": {},
   "outputs": [],
   "source": [
    "new_student_data = pd.DataFrame({\n",
    "    'Study Hours/Week': [10],\n",
    "    'Previous Scores': [85],\n",
    "    'Family Income ($)': [45000],\n",
    "    'Distance to School (miles)': [2.5],\n",
    "    'Number of Friends': [3],\n",
    "    'Commute Time (minutes)': [20],\n",
    "    'Extracurricular_Yes': [1],\n",
    "    'School Type_Public': [1],\n",
    "    'Parental Education_Master\\'s': [0],\n",
    "    'Gender_Male': [1]\n",
    "}, columns=feature_order)  # Ensure the order matches\n",
    "predicted_score = regressor.predict(new_student_data)\n",
    "print(\"Predicted Final Exam Score:\", predicted_score)"
   ]
  },
  {
   "cell_type": "code",
   "execution_count": null,
   "id": "7c79a988-7930-4287-8be9-169a47de573a",
   "metadata": {},
   "outputs": [],
   "source": [
    "#Understanding the decision tree\n",
    "\n",
    "feature_importance = regressor.feature_importances_\n",
    "print(\"Feature Importance:\", feature_importance)"
   ]
  },
  {
   "cell_type": "code",
   "execution_count": null,
   "id": "ddf3e23c-a01d-4b91-8141-056b7c2f7b27",
   "metadata": {},
   "outputs": [],
   "source": [
    "tree_depth = regressor.get_depth()\n",
    "print(\"Tree Depth:\", tree_depth)"
   ]
  },
  {
   "cell_type": "code",
   "execution_count": null,
   "id": "914f8909-bab7-4456-8bdf-b378d8e87ce9",
   "metadata": {},
   "outputs": [],
   "source": [
    "max_tree_depth = regressor.max_depth\n",
    "min_samples_split = regressor.min_samples_split\n",
    "min_samples_leaf = regressor.min_samples_leaf\n",
    "\n",
    "print(\"Max Tree Depth (Stopping Criteria):\", max_tree_depth)\n",
    "print(\"Min Samples Split (Stopping Criteria):\", min_samples_split)\n",
    "print(\"Min Samples Leaf (Stopping Criteria):\", min_samples_leaf)"
   ]
  },
  {
   "cell_type": "code",
   "execution_count": null,
   "id": "c7f64c7f-a742-4286-9ae9-9b261f6718a3",
   "metadata": {},
   "outputs": [],
   "source": [
    "import matplotlib.pyplot as plt\n",
    "from sklearn.tree import plot_tree\n",
    "\n",
    "# Plot the Decision Tree\n",
    "plt.figure(figsize=(15, 10))\n",
    "plot_tree(regressor, filled=True, rounded=True, fontsize=10)\n",
    "plt.show()"
   ]
  }
 ],
 "metadata": {
  "kernelspec": {
   "display_name": "Python 3 (ipykernel)",
   "language": "python",
   "name": "python3"
  },
  "language_info": {
   "codemirror_mode": {
    "name": "ipython",
    "version": 3
   },
   "file_extension": ".py",
   "mimetype": "text/x-python",
   "name": "python",
   "nbconvert_exporter": "python",
   "pygments_lexer": "ipython3",
   "version": "3.10.12"
  }
 },
 "nbformat": 4,
 "nbformat_minor": 5
}
